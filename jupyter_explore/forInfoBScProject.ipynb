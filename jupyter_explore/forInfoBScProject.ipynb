{
 "cells": [
  {
   "cell_type": "code",
   "execution_count": 2,
   "metadata": {
    "collapsed": true
   },
   "outputs": [],
   "source": [
    "import pandas as pd\n",
    "import matplotlib.pyplot as plt"
   ]
  },
  {
   "cell_type": "markdown",
   "metadata": {},
   "source": [
    "# Import the Dutch Vegetation database"
   ]
  },
  {
   "cell_type": "code",
   "execution_count": 4,
   "metadata": {},
   "outputs": [],
   "source": [
    "filepath=\"C:\\\\zsofia\\\\Amsterdam\\\\GitHub\\\\eEcoLiDAR\\\\Annotation\\Data\\\\\"\n",
    "\n",
    "speciestable=pd.read_csv(filepath+'speciestable.csv',sep=';',encoding='latin-1')\n",
    "plottable=pd.read_csv(filepath+'plottable.csv',sep=';',encoding='latin-1')\n",
    "observationtable=pd.read_csv(filepath+'observationtable.csv',sep=';',encoding='latin-1')"
   ]
  },
  {
   "cell_type": "markdown",
   "metadata": {},
   "source": [
    "# Extract necessary information"
   ]
  },
  {
   "cell_type": "code",
   "execution_count": 6,
   "metadata": {},
   "outputs": [],
   "source": [
    "observationtable_up2007=observationtable[(observationtable[\"year\"]>2000)]\n",
    "\n",
    "joined_obsplot=pd.merge(observationtable_up2007, plottable, on='polygonID', how='left')\n",
    "joined_obsplot = joined_obsplot[list(joined_obsplot.columns[~joined_obsplot.columns.duplicated()])]\n",
    "\n",
    "joined_db=pd.merge(joined_obsplot, speciestable, on='speciesKey', how='left')\n",
    "joined_db.dtypes\n",
    "\n",
    "joined_db.to_excel(filepath+'joined_db.xlsx',encoding='latin-1',index=False)"
   ]
  },
  {
   "cell_type": "code",
   "execution_count": 9,
   "metadata": {},
   "outputs": [],
   "source": [
    "db=pd.read_excel(filepath+'joined_db.xlsx',encoding='latin-1',index=False)\n",
    "\n",
    "db=db[['polygonID','year','organismQuantity','coordinateUncertaintyInMeters','footprintWKT','habitat',\n",
    "       'species']]\n",
    "\n",
    "db.to_csv(filepath+'joined_db2.csv',sep=';',encoding='latin-1')\n"
   ]
  },
  {
   "cell_type": "code",
   "execution_count": 8,
   "metadata": {},
   "outputs": [
    {
     "data": {
      "text/plain": [
       "polygonID                          int64\neventID                           object\nspeciesKey                        object\nyear                               int64\nmonth                              int64\nday                                int64\neventDate                         object\norganismQuantity                 float64\norganismQuantityType              object\ndecimalLatitude                  float64\ndecimalLongitude                 float64\ncoordinateUncertaintyInMeters    float64\nfootprintWKT                      object\nhabitat                           object\nsamplingProtocol                  object\nsampleSizeValue                  float64\nsampleSizeUnit                    object\npolyarea                         float64\nspecies                           object\nkingdom                           object\nphylum                            object\nclass                             object\norder                             object\nfamily                            object\ngenus                             object\nspecificEpithet                   object\nvernacularName                    object\ndtype: object"
      ]
     },
     "execution_count": 8,
     "metadata": {},
     "output_type": "execute_result"
    }
   ],
   "source": [
    "joined_db.dtypes"
   ]
  },
  {
   "cell_type": "code",
   "execution_count": null,
   "metadata": {},
   "outputs": [],
   "source": []
  }
 ],
 "metadata": {
  "kernelspec": {
   "display_name": "Python 2",
   "language": "python",
   "name": "python2"
  },
  "language_info": {
   "codemirror_mode": {
    "name": "ipython",
    "version": 2
   },
   "file_extension": ".py",
   "mimetype": "text/x-python",
   "name": "python",
   "nbconvert_exporter": "python",
   "pygments_lexer": "ipython2",
   "version": "2.7.6"
  }
 },
 "nbformat": 4,
 "nbformat_minor": 0
}
