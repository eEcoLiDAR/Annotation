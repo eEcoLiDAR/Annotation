{
 "cells": [
  {
   "cell_type": "code",
   "execution_count": 7,
   "metadata": {
    "collapsed": true
   },
   "outputs": [],
   "source": [
    "import pandas as pd\n",
    "\n",
    "filepath=\"C:\\\\zsofia\\\\Amsterdam\\\\Work\\\\Teaching\\\\KZs_BiodiversityandGlobalChange\\\\GBIF_Data\\\\step2\\\\\"\n",
    "\n",
    "ob1985_1989=pd.read_csv(filepath+'1985_1989NLObservationTable.csv',sep=';',encoding='latin-1')\n",
    "ob1990_1994=pd.read_csv(filepath+'1990_1994NLObservationTable.csv',sep=';',encoding='latin-1')\n",
    "ob1995_1999=pd.read_csv(filepath+'1995_1999NLObservationTable.csv',sep=';',encoding='latin-1')\n",
    "ob2000_2004=pd.read_csv(filepath+'2000_2004NLObservationTable.csv',sep=';',encoding='latin-1')\n",
    "ob2005_2009=pd.read_csv(filepath+'2005_2009NLObservationTable.csv',sep=';',encoding='latin-1')\n",
    "ob2010_2017=pd.read_csv(filepath+'2010_2017NLObservationTable.csv',sep=';',encoding='latin-1')\n",
    "\n",
    "pl1985_1989=pd.read_csv(filepath+'1985_1989NLPlotTable.csv',sep=';',encoding='latin-1')\n",
    "pl1990_1994=pd.read_csv(filepath+'1990_1994NLPlotTable.csv',sep=';',encoding='latin-1')\n",
    "pl1995_1999=pd.read_csv(filepath+'1995_1999NLPlotTable.csv',sep=';',encoding='latin-1')\n",
    "pl2000_2004=pd.read_csv(filepath+'2000_2004NLPlotTable.csv',sep=';',encoding='latin-1')\n",
    "pl2005_2009=pd.read_csv(filepath+'2005_2009NLPlotTable.csv',sep=';',encoding='latin-1')\n",
    "pl2010_2017=pd.read_csv(filepath+'2010_2017NLPlotTable.csv',sep=';',encoding='latin-1')\n",
    "\n",
    "m1985_1989 = pd.merge(ob1985_1989, pl1985_1989, on='polygonID')\n",
    "ml1990_1994 = pd.merge(ob1990_1994, pl1990_1994, on='polygonID')\n",
    "ml1995_1999 = pd.merge(ob1995_1999, pl1995_1999, on='polygonID')\n",
    "ml2000_2004 = pd.merge(ob2000_2004, pl2000_2004, on='polygonID')\n",
    "ml2005_2009 = pd.merge(ob2005_2009, pl2005_2009, on='polygonID')\n",
    "ml2010_2017 = pd.merge(ob2010_2017, pl2010_2017, on='polygonID')\n",
    "\n",
    "frames = [m1985_1989, ml1990_1994, ml1995_1999,ml2000_2004,ml2005_2009,ml2010_2017]\n",
    "mergedtable = pd.concat(frames)\n",
    "\n",
    "mergedtable['polygonID'] = pd.Categorical(mergedtable['footprintWKT'].astype(str)).codes\n",
    "\n",
    "obstable=mergedtable[[\"polygonID\",\"eventID\",\"speciesKey\",\"year\",\"month\",\"day\",\"eventDate\",\n",
    "                      \"organismQuantity\",\"organismQuantityType\"]]\n",
    "\n",
    "obstable.to_csv(filepath+'observationtable.csv',sep=\";\",index=False)\n",
    "\n",
    "plottable=mergedtable[[\"polygonID\",\"decimalLatitude\",\"decimalLongitude\",\"coordinateUncertaintyInMeters\",\"footprintWKT\",\n",
    "                       \"habitat\",\"samplingProtocol\",\"sampleSizeUnit\",\"polyarea \"]]\n",
    "\n",
    "plottable=plottable.groupby('footprintWKT').first().reset_index()\n",
    "\n",
    "plottable.to_csv(filepath+'plottable.csv',sep=\";\",index=False)"
   ]
  },
  {
   "cell_type": "code",
   "execution_count": null,
   "metadata": {},
   "outputs": [],
   "source": []
  }
 ],
 "metadata": {
  "kernelspec": {
   "display_name": "Python 2",
   "language": "python",
   "name": "python2"
  },
  "language_info": {
   "codemirror_mode": {
    "name": "ipython",
    "version": 2
   },
   "file_extension": ".py",
   "mimetype": "text/x-python",
   "name": "python",
   "nbconvert_exporter": "python",
   "pygments_lexer": "ipython2",
   "version": "2.7.6"
  }
 },
 "nbformat": 4,
 "nbformat_minor": 0
}
