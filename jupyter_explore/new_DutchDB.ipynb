{
 "cells": [
  {
   "cell_type": "markdown",
   "metadata": {},
   "source": [
    "Read the data and create shapefiles with extra attributes"
   ]
  },
  {
   "cell_type": "code",
   "execution_count": 1,
   "metadata": {
    "collapsed": true
   },
   "outputs": [],
   "source": [
    "import pandas as pd\n",
    "import numpy as np\n",
    "\n",
    "filepath=\"D:\\\\GitHub\\\\eEcoLiDAR\\\\Annotation\\\\Data\\\\\"\n",
    "\n",
    "header=pd.read_csv(filepath+'Phragmites_australis_header.csv',sep='\\t')\n",
    "species=pd.read_csv(filepath+'Phragmites_australis_species.csv',sep='\\t')"
   ]
  },
  {
   "cell_type": "markdown",
   "metadata": {},
   "source": [
    "- Convert species info into one line information"
   ]
  },
  {
   "cell_type": "code",
   "execution_count": 30,
   "metadata": {},
   "outputs": [],
   "source": [
    "SpeciesGroups=species.groupby(\"PlotObservationID\")[\"Species name\"].apply(' '.join).reset_index()\n",
    "LayerGroups=species.groupby(\"PlotObservationID\")[\"Layer\"].apply(lambda x: ', '.join(x.astype(str))).reset_index()\n",
    "CoverGroups=species.groupby(\"PlotObservationID\")[\"Cover %\"].apply(lambda x: ', '.join(x.astype(str))).reset_index()\n",
    "CoverCodeGroups=species.groupby(\"PlotObservationID\")[\"Cover code\"].apply(lambda x: ', '.join(x.astype(str))).reset_index()"
   ]
  },
  {
   "cell_type": "code",
   "execution_count": 33,
   "metadata": {},
   "outputs": [],
   "source": [
    "JoinedTable=pd.merge(header,SpeciesGroups,on=\"PlotObservationID\",how=\"left\")\n",
    "JoinedTable2=pd.merge(JoinedTable,LayerGroups,on=\"PlotObservationID\",how=\"left\")\n",
    "JoinedTable3=pd.merge(JoinedTable2,CoverGroups,on=\"PlotObservationID\",how=\"left\")\n",
    "JoinedTable4=pd.merge(JoinedTable3,CoverCodeGroups,on=\"PlotObservationID\",how=\"left\")"
   ]
  },
  {
   "cell_type": "markdown",
   "metadata": {},
   "source": [
    "- Convert into polygon"
   ]
  },
  {
   "cell_type": "code",
   "execution_count": 44,
   "metadata": {},
   "outputs": [
    {
     "ename": "ImportError",
     "evalue": "No module named geopandas",
     "output_type": "error",
     "traceback": [
      "\u001b[1;31m---------------------------------------------------------------------------\u001b[0m",
      "\u001b[1;31mImportError\u001b[0m                               Traceback (most recent call last)",
      "\u001b[1;32m<ipython-input-44-f8b81fe8ca07>\u001b[0m in \u001b[0;36m<module>\u001b[1;34m()\u001b[0m\n\u001b[1;32m----> 1\u001b[1;33m \u001b[1;32mimport\u001b[0m \u001b[0mgeopandas\u001b[0m \u001b[1;32mas\u001b[0m \u001b[0mgpd\u001b[0m\u001b[1;33m\u001b[0m\u001b[0m\n\u001b[0m",
      "\u001b[1;31mImportError\u001b[0m: No module named geopandas"
     ]
    }
   ],
   "source": [
    "import geopandas as gpd"
   ]
  },
  {
   "cell_type": "code",
   "execution_count": null,
   "metadata": {
    "collapsed": true
   },
   "outputs": [],
   "source": []
  }
 ],
 "metadata": {
  "kernelspec": {
   "display_name": "Python 2",
   "language": "python",
   "name": "python2"
  },
  "language_info": {
   "codemirror_mode": {
    "name": "ipython",
    "version": 2
   },
   "file_extension": ".py",
   "mimetype": "text/x-python",
   "name": "python",
   "nbconvert_exporter": "python",
   "pygments_lexer": "ipython2",
   "version": "2.7.14"
  }
 },
 "nbformat": 4,
 "nbformat_minor": 2
}
