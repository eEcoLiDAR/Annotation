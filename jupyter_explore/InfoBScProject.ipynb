{
 "cells": [
  {
   "cell_type": "code",
   "execution_count": 85,
   "metadata": {
    "collapsed": true
   },
   "outputs": [],
   "source": [
    "import pandas as pd\n",
    "import numpy as np\n",
    "\n",
    "filepath=\"D:\\\\GitHub\\\\eEcoLiDAR\\\\Annotation\\\\Data\\\\\"\n",
    "\n",
    "speciestable=pd.read_csv(filepath+'speciestable.csv',sep=';',encoding='latin-1')\n",
    "plottable=pd.read_csv(filepath+'plottable.csv',sep=';',encoding='latin-1')\n",
    "observationtable=pd.read_csv(filepath+'observationtable.csv',sep=';',encoding='latin-1')"
   ]
  },
  {
   "cell_type": "markdown",
   "metadata": {},
   "source": [
    "Filter the polygons between 2007 and 2015 -- AHN2 was measured between 2008-2012"
   ]
  },
  {
   "cell_type": "code",
   "execution_count": 86,
   "metadata": {},
   "outputs": [],
   "source": [
    "observationtable_up2007=observationtable[(observationtable[\"year\"]>2007)]"
   ]
  },
  {
   "cell_type": "markdown",
   "metadata": {},
   "source": [
    "Join: observation table to plottable"
   ]
  },
  {
   "cell_type": "code",
   "execution_count": 87,
   "metadata": {},
   "outputs": [],
   "source": [
    "joined_obsplot=pd.merge(observationtable_up2007, plottable, on='polygonID', how='left')\n",
    "joined_obsplot = joined_obsplot[list(joined_obsplot.columns[~joined_obsplot.columns.duplicated()])]\n",
    "joined_obsplot_forest=joined_obsplot[(joined_obsplot[\"habitat\"]==\"Forest\")]"
   ]
  },
  {
   "cell_type": "markdown",
   "metadata": {},
   "source": [
    "Groupby : polygonID, number of observed species,maximum of organismquantity"
   ]
  },
  {
   "cell_type": "code",
   "execution_count": null,
   "metadata": {},
   "outputs": [],
   "source": [
    "agghow={'speciesKey':['count','first'], 'organismQuantity':['max']}\n",
    "groupby=joined_obsplot_forest.sort_values('organismQuantity', ascending=False).groupby('polygonID').agg(agghow).reset_index()"
   ]
  },
  {
   "cell_type": "code",
   "execution_count": 103,
   "metadata": {},
   "outputs": [],
   "source": [
    ""
   ]
  },
  {
   "cell_type": "code",
   "execution_count": null,
   "metadata": {},
   "outputs": [],
   "source": []
  }
 ],
 "metadata": {
  "kernelspec": {
   "display_name": "Python 2",
   "language": "python",
   "name": "python2"
  },
  "language_info": {
   "codemirror_mode": {
    "name": "ipython",
    "version": 2
   },
   "file_extension": ".py",
   "mimetype": "text/x-python",
   "name": "python",
   "nbconvert_exporter": "python",
   "pygments_lexer": "ipython2",
   "version": "2.7.6"
  }
 },
 "nbformat": 4,
 "nbformat_minor": 0
}
