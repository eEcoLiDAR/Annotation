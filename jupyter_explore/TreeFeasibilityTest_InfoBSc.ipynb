{
 "cells": [
  {
   "cell_type": "code",
   "execution_count": 1,
   "metadata": {
    "collapsed": true
   },
   "outputs": [],
   "source": [
    "import pandas as pd\n",
    "\n",
    "filepath=\"C:\\\\zsofia\\\\Amsterdam\\\\GitHub\\\\eecolidar_kzs\\\\Annotation\\\\Data\\\\\"\n",
    "\n",
    "speciestable=pd.read_csv(filepath+'speciestable.csv',sep=';',encoding='latin-1')\n",
    "plottable=pd.read_csv(filepath+'plottable.csv',sep=';',encoding='latin-1')\n",
    "observationtable=pd.read_csv(filepath+'observationtable.csv',sep=';',encoding='latin-1')"
   ]
  },
  {
   "cell_type": "markdown",
   "metadata": {},
   "source": [
    "1.) Introduce filters"
   ]
  },
  {
   "cell_type": "code",
   "execution_count": 2,
   "metadata": {},
   "outputs": [],
   "source": [
    "observationtable_up2007=observationtable[(observationtable[\"year\"]>2007)]\n",
    "\n",
    "joined_obsplot=pd.merge(observationtable_up2007, plottable, on='polygonID', how='left')\n",
    "joined_obsplot = joined_obsplot[list(joined_obsplot.columns[~joined_obsplot.columns.duplicated()])]\n",
    "joined_obsplot_forest=joined_obsplot[(joined_obsplot[\"habitat\"]==\"Forest\")]"
   ]
  },
  {
   "cell_type": "markdown",
   "metadata": {},
   "source": []
  },
  {
   "cell_type": "code",
   "execution_count": 7,
   "metadata": {},
   "outputs": [
    {
     "name": "stdout",
     "output_type": "stream",
     "text": [
      "      speciesKey           species  kingdom        phylum          class  \\\n203      2685484        Abies alba  Plantae  Tracheophyta      Pinopsida   \n482      2880539     Quercus rubra  Plantae  Tracheophyta  Magnoliopsida   \n1060     3189846  Acer platanoides  Plantae  Tracheophyta  Magnoliopsida   \n1239     5285637  Pinus sylvestris  Plantae  Tracheophyta      Pinopsida   \n\n           order       family    genus specificEpithet     vernacularName   \n203      Pinales     Pinaceae    Abies            alba  Gewone zilverspar   \n482      Fagales     Fagaceae  Quercus           rubra    Amerikaanse eik   \n1060  Sapindales  Sapindaceae     Acer     platanoides     Noorse esdoorn   \n1239     Pinales     Pinaceae    Pinus      sylvestris          Grove den   \n"
     ]
    }
   ],
   "source": [
    "speciestable_select=speciestable[(speciestable[\"species\"]==\"Abies alba\") |\n",
    "                                (speciestable[\"species\"]==\"Acer platanoides\") |\n",
    "                                (speciestable[\"species\"]==\"Quercus rubra\") | \n",
    "                                (speciestable[\"species\"]==\"Pinus sylvestris\")]\n",
    "\n",
    "print(speciestable_select)"
   ]
  },
  {
   "cell_type": "code",
   "execution_count": 19,
   "metadata": {},
   "outputs": [
    {
     "data": {
      "text/plain": [
       "polygonID                          int64\neventID                           object\nspeciesKey                        object\nyear                               int64\nmonth                              int64\nday                                int64\neventDate                         object\norganismQuantity                 float64\norganismQuantityType              object\nfootprintWKT                      object\ndecimalLatitude                  float64\ndecimalLongitude                 float64\ncoordinateUncertaintyInMeters    float64\nhabitat                           object\nsamplingProtocol                  object\nsampleSizeUnit                    object\npolyarea                         float64\nspecies                           object\nkingdom                           object\nphylum                            object\nclass                             object\norder                             object\nfamily                            object\ngenus                             object\nspecificEpithet                   object\nvernacularName                    object\ndtype: object"
      ]
     },
     "execution_count": 19,
     "metadata": {},
     "output_type": "execute_result"
    }
   ],
   "source": [
    "OnlySelTrees_from2007=pd.merge(joined_obsplot_forest, speciestable, on='speciesKey',\n",
    "                                          how='left')\n",
    "OnlySelTrees_from2007.dtypes"
   ]
  },
  {
   "cell_type": "code",
   "execution_count": 27,
   "metadata": {},
   "outputs": [],
   "source": [
    "specieslist=OnlySelTrees_from2007.groupby('polygonID')['species'].apply(list).reset_index()\n",
    "coveragelist=OnlySelTrees_from2007.groupby('polygonID')['organismQuantity'].apply(list).reset_index()"
   ]
  },
  {
   "cell_type": "code",
   "execution_count": 30,
   "metadata": {},
   "outputs": [],
   "source": [
    "ForInfoBSc_lists=pd.merge(specieslist, coveragelist, on='polygonID', how='left')"
   ]
  },
  {
   "cell_type": "code",
   "execution_count": 31,
   "metadata": {},
   "outputs": [],
   "source": [
    "ForInfoBSc=pd.merge(ForInfoBSc_lists, plottable[['polygonID','footprintWKT']], on='polygonID', how='left')\n",
    "ForInfoBSc.to_csv(filepath+'ForInfoBSc_JoinedCoordinates.csv',sep=\";\",index=False)"
   ]
  },
  {
   "cell_type": "code",
   "execution_count": null,
   "metadata": {},
   "outputs": [],
   "source": []
  }
 ],
 "metadata": {
  "kernelspec": {
   "display_name": "Python 2",
   "language": "python",
   "name": "python2"
  },
  "language_info": {
   "codemirror_mode": {
    "name": "ipython",
    "version": 2
   },
   "file_extension": ".py",
   "mimetype": "text/x-python",
   "name": "python",
   "nbconvert_exporter": "python",
   "pygments_lexer": "ipython2",
   "version": "2.7.6"
  }
 },
 "nbformat": 4,
 "nbformat_minor": 0
}
