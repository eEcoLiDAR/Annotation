{
 "cells": [
  {
   "cell_type": "code",
   "execution_count": 33,
   "metadata": {
    "collapsed": true
   },
   "outputs": [],
   "source": [
    "import pandas as pd\n",
    "\n",
    "filepath=\"C:\\\\zsofia\\\\Amsterdam\\\\GitHub\\\\eecolidar_kzs\\\\Annotation\\\\Data\\\\\"\n",
    "\n",
    "speciestable=pd.read_csv(filepath+'speciestable.csv',sep=';',encoding='latin-1')\n",
    "plottable=pd.read_csv(filepath+'plottable.csv',sep=';',encoding='latin-1')\n",
    "observationtable=pd.read_csv(filepath+'observationtable.csv',sep=';',encoding='latin-1')"
   ]
  },
  {
   "cell_type": "markdown",
   "metadata": {},
   "source": [
    "1.) Introduce filters"
   ]
  },
  {
   "cell_type": "code",
   "execution_count": 65,
   "metadata": {},
   "outputs": [],
   "source": [
    "observationtable_up2007=observationtable[(observationtable[\"year\"]>2007)]\n",
    "\n",
    "joined_obsplot=pd.merge(observationtable_up2007, plottable, on='polygonID', how='left')\n",
    "joined_obsplot = joined_obsplot[list(joined_obsplot.columns[~joined_obsplot.columns.duplicated()])]\n",
    "joined_obsplot_forest=joined_obsplot[(joined_obsplot[\"habitat\"]==\"Forest\")]\n",
    "\n",
    "joined_db=pd.merge(joined_obsplot_forest, speciestable, on='speciesKey', how='left')\n",
    "joined_db.dtypes\n",
    "\n",
    "joined_db.to_excel(filepath+'joined_db.xlsx',encoding='latin-1',index=False)\n"
   ]
  },
  {
   "cell_type": "markdown",
   "metadata": {},
   "source": [
    "2.) Select specific species and filter based on that"
   ]
  },
  {
   "cell_type": "code",
   "execution_count": 75,
   "metadata": {},
   "outputs": [
    {
     "name": "stdout",
     "output_type": "stream",
     "text": [
      "(81, 26)\n(1513, 26)\n"
     ]
    }
   ],
   "source": [
    "joined_db_betulapendula=joined_db[(joined_db[\"species\"]==\"Pinus sylvestris\") & \n",
    "                                  (joined_db[\"organismQuantity\"]<88) & (joined_db[\"organismQuantity\"]>50)]\n",
    "print(joined_db_betulapendula.shape)\n",
    "\n",
    "joined_db_betulapendula_all=pd.merge(joined_db, joined_db_betulapendula[[\"polygonID\"]], on='polygonID', how='right')\n",
    "print(joined_db_betulapendula_all.shape)"
   ]
  },
  {
   "cell_type": "code",
   "execution_count": 76,
   "metadata": {},
   "outputs": [],
   "source": [
    "specieslist=joined_db_betulapendula_all.groupby('polygonID')['species'].apply(list).reset_index()\n",
    "coveragelist=joined_db_betulapendula_all.groupby('polygonID')['organismQuantity'].apply(list).reset_index()\n",
    "\n",
    "ForInfoBSc_lists=pd.merge(specieslist, coveragelist, on='polygonID', how='left')\n",
    "\n",
    "ForInfoBSc_betulapendula=pd.merge(ForInfoBSc_lists, plottable[['polygonID','footprintWKT']], on='polygonID', how='left')\n",
    "\n",
    "ForInfoBSc_betulapendula.to_csv(filepath+'ForInfoBSc_pinussylvestris_5088.csv',sep=\";\",index=False)"
   ]
  },
  {
   "cell_type": "code",
   "execution_count": 27,
   "metadata": {},
   "outputs": [],
   "source": [
    ""
   ]
  },
  {
   "cell_type": "code",
   "execution_count": 30,
   "metadata": {},
   "outputs": [],
   "source": [
    ""
   ]
  },
  {
   "cell_type": "code",
   "execution_count": 32,
   "metadata": {},
   "outputs": [],
   "source": [
    ""
   ]
  },
  {
   "cell_type": "code",
   "execution_count": null,
   "metadata": {},
   "outputs": [],
   "source": []
  }
 ],
 "metadata": {
  "kernelspec": {
   "display_name": "Python 2",
   "language": "python",
   "name": "python2"
  },
  "language_info": {
   "codemirror_mode": {
    "name": "ipython",
    "version": 2
   },
   "file_extension": ".py",
   "mimetype": "text/x-python",
   "name": "python",
   "nbconvert_exporter": "python",
   "pygments_lexer": "ipython2",
   "version": "2.7.6"
  }
 },
 "nbformat": 4,
 "nbformat_minor": 0
}
