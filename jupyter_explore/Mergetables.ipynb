{
 "cells": [
  {
   "cell_type": "code",
   "execution_count": 1,
   "metadata": {
    "collapsed": true
   },
   "outputs": [],
   "source": [
    "import pandas as pd"
   ]
  },
  {
   "cell_type": "code",
   "execution_count": 7,
   "metadata": {},
   "outputs": [],
   "source": [
    "filepath=\"C:\\\\zsofia\\\\Amsterdam\\\\Work\\\\Teaching\\\\KZs_BiodiversityandGlobalChange\\\\GBIF_Data\\\\step2\\\\\"\n",
    "\n",
    "sp1985_1989=pd.read_csv(filepath+'1985_1989NLSpeciesTable.csv',sep=';',encoding='latin-1')\n",
    "sp1990_1994=pd.read_csv(filepath+'1990_1994NLSpeciesTable.csv',sep=';',encoding='latin-1')\n",
    "sp1995_1999=pd.read_csv(filepath+'1995_1999NLSpeciesTable.csv',sep=';',encoding='latin-1')\n",
    "sp2000_2004=pd.read_csv(filepath+'2000_2004NLSpeciesTable.csv',sep=';',encoding='latin-1')\n",
    "sp2005_2009=pd.read_csv(filepath+'2005_2009NLSpeciesTable.csv',sep=';',encoding='latin-1')\n",
    "sp2010_2017=pd.read_csv(filepath+'2010_2017NLSpeciesTable.csv',sep=';',encoding='latin-1')"
   ]
  },
  {
   "cell_type": "code",
   "execution_count": null,
   "metadata": {},
   "outputs": [
    {
     "name": "stdout",
     "output_type": "stream",
     "text": [
      "(1900,)\n"
     ]
    }
   ],
   "source": [
    "frames = [sp1985_1989, sp1990_1994, sp1995_1999,sp2000_2004,sp2005_2009,sp2010_2017]\n",
    "mergedspeciestable = pd.concat(frames)\n",
    "\n",
    "print(pd.unique(mergedspeciestable['speciesKey'].values).shape)\n",
    "\n",
    "speciestable=mergedspeciestable.groupby('speciesKey').first().reset_index()\n",
    "\n",
    "print(speciestable.shape)"
   ]
  },
  {
   "cell_type": "code",
   "execution_count": 16,
   "metadata": {},
   "outputs": [],
   "source": [
    "speciestable.to_csv(filepath+'speciestable.csv',sep=\";\",index=False)"
   ]
  },
  {
   "cell_type": "code",
   "execution_count": null,
   "metadata": {},
   "outputs": [],
   "source": []
  }
 ],
 "metadata": {
  "kernelspec": {
   "display_name": "Python 2",
   "language": "python",
   "name": "python2"
  },
  "language_info": {
   "codemirror_mode": {
    "name": "ipython",
    "version": 2
   },
   "file_extension": ".py",
   "mimetype": "text/x-python",
   "name": "python",
   "nbconvert_exporter": "python",
   "pygments_lexer": "ipython2",
   "version": "2.7.6"
  }
 },
 "nbformat": 4,
 "nbformat_minor": 0
}
